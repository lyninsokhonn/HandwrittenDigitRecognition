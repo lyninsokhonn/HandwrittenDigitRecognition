{
  "nbformat": 4,
  "nbformat_minor": 0,
  "metadata": {
    "colab": {
      "name": "HandwrittenDigitRecognition.ipynb",
      "provenance": [],
      "collapsed_sections": []
    },
    "kernelspec": {
      "name": "python3",
      "display_name": "Python 3"
    },
    "language_info": {
      "name": "python"
    },
    "accelerator": "GPU",
    "gpuClass": "standard"
  },
  "cells": [
    {
      "cell_type": "code",
      "execution_count": 1,
      "metadata": {
        "id": "pNi4vN5gJpiU"
      },
      "outputs": [],
      "source": [
        "import numpy as np\n",
        "from tensorflow import keras\n",
        "from tensorflow.keras import layers"
      ]
    },
    {
      "cell_type": "code",
      "source": [
        "# Model/data parameters\n",
        "num_classes = 10\n",
        "input_shape = (28, 28, 1)\n",
        "\n",
        "# The data, split between train and test sets\n",
        "(x_train, y_train), (x_test, y_test) = keras.datasets.mnist.load_data()\n",
        "\n",
        "# Scale images to the [0, 1] range\n",
        "x_train = x_train.astype(\"float32\") / 255\n",
        "x_test = x_test.astype(\"float32\") / 255\n",
        "\n",
        "# Make sure images have shape (28, 28, 1)\n",
        "x_train = np.expand_dims(x_train, -1)\n",
        "x_test = np.expand_dims(x_test, -1)\n",
        "print(\"x_train shape:\", x_train.shape)\n",
        "print(x_train.shape[0], \"train samples\")\n",
        "print(x_test.shape[0], \"test samples\")\n",
        "\n",
        "# Convert class vectors to binary class matrices\n",
        "y_train = keras.utils.to_categorical(y_train, num_classes)\n",
        "y_test = keras.utils.to_categorical(y_test, num_classes)"
      ],
      "metadata": {
        "colab": {
          "base_uri": "https://localhost:8080/"
        },
        "id": "S0ITH-bdKJjB",
        "outputId": "185ca1b7-dc1a-4262-923c-9fcd67affc08"
      },
      "execution_count": 2,
      "outputs": [
        {
          "output_type": "stream",
          "name": "stdout",
          "text": [
            "Downloading data from https://storage.googleapis.com/tensorflow/tf-keras-datasets/mnist.npz\n",
            "11493376/11490434 [==============================] - 0s 0us/step\n",
            "11501568/11490434 [==============================] - 0s 0us/step\n",
            "x_train shape: (60000, 28, 28, 1)\n",
            "60000 train samples\n",
            "10000 test samples\n"
          ]
        }
      ]
    },
    {
      "cell_type": "code",
      "source": [
        "# Make model\n",
        "# Define CNN model\n",
        "model = keras.Sequential(\n",
        "    [\n",
        "     keras.Input(shape = input_shape),\n",
        "     layers.Conv2D(32, kernel_size=(3, 3), activation=\"relu\"),\n",
        "     layers.MaxPooling2D(pool_size=(2, 2)),\n",
        "     layers.Conv2D(64, kernel_size=(3, 3), activation=\"relu\"),\n",
        "     layers.Conv2D(64, kernel_size=(3, 3), activation=\"relu\"),\n",
        "     layers.MaxPooling2D(pool_size=(2, 2)),\n",
        "     layers.Flatten(),\n",
        "     layers.Dense(100, activation=\"relu\"),\n",
        "     layers.Dense(10, activation=\"softmax\"),\n",
        "    ]\n",
        ")\n",
        "\n",
        "model.summary()"
      ],
      "metadata": {
        "colab": {
          "base_uri": "https://localhost:8080/"
        },
        "id": "iAVl9HaiKL3Q",
        "outputId": "c88cabc2-ae05-4819-8cfd-564de9ded09b"
      },
      "execution_count": 4,
      "outputs": [
        {
          "output_type": "stream",
          "name": "stdout",
          "text": [
            "Model: \"sequential_1\"\n",
            "_________________________________________________________________\n",
            " Layer (type)                Output Shape              Param #   \n",
            "=================================================================\n",
            " conv2d_2 (Conv2D)           (None, 26, 26, 32)        320       \n",
            "                                                                 \n",
            " max_pooling2d_2 (MaxPooling  (None, 13, 13, 32)       0         \n",
            " 2D)                                                             \n",
            "                                                                 \n",
            " conv2d_3 (Conv2D)           (None, 11, 11, 64)        18496     \n",
            "                                                                 \n",
            " conv2d_4 (Conv2D)           (None, 9, 9, 64)          36928     \n",
            "                                                                 \n",
            " max_pooling2d_3 (MaxPooling  (None, 4, 4, 64)         0         \n",
            " 2D)                                                             \n",
            "                                                                 \n",
            " flatten_1 (Flatten)         (None, 1024)              0         \n",
            "                                                                 \n",
            " dense_1 (Dense)             (None, 100)               102500    \n",
            "                                                                 \n",
            " dense_2 (Dense)             (None, 10)                1010      \n",
            "                                                                 \n",
            "=================================================================\n",
            "Total params: 159,254\n",
            "Trainable params: 159,254\n",
            "Non-trainable params: 0\n",
            "_________________________________________________________________\n"
          ]
        }
      ]
    },
    {
      "cell_type": "code",
      "source": [
        "# Define training parameters\n",
        "batch_size = 200\n",
        "epochs = 20\n",
        "\n",
        "model.compile(loss=\"categorical_crossentropy\", optimizer=\"adam\", metrics=[\"accuracy\"])\n",
        "\n",
        "history = model.fit(x_train, y_train, batch_size=batch_size, epochs=epochs, validation_split=0.1)"
      ],
      "metadata": {
        "colab": {
          "base_uri": "https://localhost:8080/"
        },
        "id": "q5LwHV3vKq_Z",
        "outputId": "ebbaf829-4179-4931-fbe4-67c2856ee6ca"
      },
      "execution_count": 5,
      "outputs": [
        {
          "output_type": "stream",
          "name": "stdout",
          "text": [
            "Epoch 1/20\n",
            "270/270 [==============================] - 14s 9ms/step - loss: 0.2765 - accuracy: 0.9185 - val_loss: 0.0711 - val_accuracy: 0.9782\n",
            "Epoch 2/20\n",
            "270/270 [==============================] - 2s 8ms/step - loss: 0.0647 - accuracy: 0.9803 - val_loss: 0.0459 - val_accuracy: 0.9860\n",
            "Epoch 3/20\n",
            "270/270 [==============================] - 2s 8ms/step - loss: 0.0467 - accuracy: 0.9852 - val_loss: 0.0499 - val_accuracy: 0.9853\n",
            "Epoch 4/20\n",
            "270/270 [==============================] - 2s 8ms/step - loss: 0.0343 - accuracy: 0.9892 - val_loss: 0.0399 - val_accuracy: 0.9888\n",
            "Epoch 5/20\n",
            "270/270 [==============================] - 2s 8ms/step - loss: 0.0287 - accuracy: 0.9907 - val_loss: 0.0371 - val_accuracy: 0.9902\n",
            "Epoch 6/20\n",
            "270/270 [==============================] - 2s 8ms/step - loss: 0.0219 - accuracy: 0.9929 - val_loss: 0.0356 - val_accuracy: 0.9893\n",
            "Epoch 7/20\n",
            "270/270 [==============================] - 2s 8ms/step - loss: 0.0177 - accuracy: 0.9941 - val_loss: 0.0389 - val_accuracy: 0.9895\n",
            "Epoch 8/20\n",
            "270/270 [==============================] - 2s 8ms/step - loss: 0.0152 - accuracy: 0.9951 - val_loss: 0.0331 - val_accuracy: 0.9918\n",
            "Epoch 9/20\n",
            "270/270 [==============================] - 2s 8ms/step - loss: 0.0126 - accuracy: 0.9960 - val_loss: 0.0358 - val_accuracy: 0.9925\n",
            "Epoch 10/20\n",
            "270/270 [==============================] - 2s 8ms/step - loss: 0.0102 - accuracy: 0.9962 - val_loss: 0.0354 - val_accuracy: 0.9905\n",
            "Epoch 11/20\n",
            "270/270 [==============================] - 2s 8ms/step - loss: 0.0100 - accuracy: 0.9966 - val_loss: 0.0338 - val_accuracy: 0.9922\n",
            "Epoch 12/20\n",
            "270/270 [==============================] - 2s 8ms/step - loss: 0.0072 - accuracy: 0.9979 - val_loss: 0.0424 - val_accuracy: 0.9902\n",
            "Epoch 13/20\n",
            "270/270 [==============================] - 2s 8ms/step - loss: 0.0094 - accuracy: 0.9968 - val_loss: 0.0450 - val_accuracy: 0.9905\n",
            "Epoch 14/20\n",
            "270/270 [==============================] - 2s 8ms/step - loss: 0.0073 - accuracy: 0.9974 - val_loss: 0.0385 - val_accuracy: 0.9918\n",
            "Epoch 15/20\n",
            "270/270 [==============================] - 2s 8ms/step - loss: 0.0043 - accuracy: 0.9986 - val_loss: 0.0499 - val_accuracy: 0.9902\n",
            "Epoch 16/20\n",
            "270/270 [==============================] - 2s 8ms/step - loss: 0.0062 - accuracy: 0.9979 - val_loss: 0.0495 - val_accuracy: 0.9918\n",
            "Epoch 17/20\n",
            "270/270 [==============================] - 2s 8ms/step - loss: 0.0055 - accuracy: 0.9981 - val_loss: 0.0437 - val_accuracy: 0.9902\n",
            "Epoch 18/20\n",
            "270/270 [==============================] - 2s 8ms/step - loss: 0.0050 - accuracy: 0.9983 - val_loss: 0.0398 - val_accuracy: 0.9913\n",
            "Epoch 19/20\n",
            "270/270 [==============================] - 2s 8ms/step - loss: 0.0055 - accuracy: 0.9979 - val_loss: 0.0649 - val_accuracy: 0.9895\n",
            "Epoch 20/20\n",
            "270/270 [==============================] - 2s 8ms/step - loss: 0.0072 - accuracy: 0.9975 - val_loss: 0.0427 - val_accuracy: 0.9923\n"
          ]
        }
      ]
    },
    {
      "cell_type": "code",
      "source": [
        "# Check performance\n",
        "score = model.evaluate(x_test, y_test, verbose=0)\n",
        "print(\"Test loss:\", score[0])\n",
        "print(\"Test accuracy:\", score[1])"
      ],
      "metadata": {
        "colab": {
          "base_uri": "https://localhost:8080/"
        },
        "id": "loCLg5h_KxDX",
        "outputId": "b3aa5eb0-f9da-4d27-dd63-d35c05182668"
      },
      "execution_count": 6,
      "outputs": [
        {
          "output_type": "stream",
          "name": "stdout",
          "text": [
            "Test loss: 0.028732245787978172\n",
            "Test accuracy: 0.9926000237464905\n"
          ]
        }
      ]
    },
    {
      "cell_type": "code",
      "source": [
        "import matplotlib.pyplot as plt\n",
        "\n",
        "# Test model\n",
        "img_id = 1\n",
        "\n",
        "sample_test_image = x_test[img_id]\n",
        "sample_test_label = y_test[img_id]\n",
        "\n",
        "print(\"Image shape:\", sample_test_image.shape)\n",
        "print(\"True Image Label Array:\", sample_test_label,\n",
        "      \"\\nTrue Image Label Shape:\", sample_test_label.shape,\n",
        "      \"\\nTrue Image Label:\", np.argmax(sample_test_label))\n",
        "plt.imshow(sample_test_image.reshape(28, 28), interpolation='nearest')\n",
        "plt.show()\n",
        "\n",
        "prediction = model.predict(sample_test_image.reshape(1, 28, 28, 1))\n",
        "\n",
        "print(\"Predicted Image Label Array:\", ['{0:0.3f}'.format(i) for i in prediction[0]],\n",
        "      \"\\nPredicted Image Label Shape:\", prediction.shape,\n",
        "      \"\\nPredicted Image Label:\", np.argmax(prediction))"
      ],
      "metadata": {
        "colab": {
          "base_uri": "https://localhost:8080/",
          "height": 384
        },
        "id": "sLV2zwkfLT9i",
        "outputId": "e5c54445-2e37-4a29-d2b2-52880f476c7f"
      },
      "execution_count": 10,
      "outputs": [
        {
          "output_type": "stream",
          "name": "stdout",
          "text": [
            "Image shape: (28, 28, 1)\n",
            "True Image Label Array: [0. 0. 1. 0. 0. 0. 0. 0. 0. 0.] \n",
            "True Image Label Shape: (10,) \n",
            "True Image Label: 2\n"
          ]
        },
        {
          "output_type": "display_data",
          "data": {
            "text/plain": [
              "<Figure size 432x288 with 1 Axes>"
            ],
            "image/png": "[encoded data removed]"
          },
          "metadata": {
            "needs_background": "light"
          }
        },
        {
          "output_type": "stream",
          "name": "stdout",
          "text": [
            "Predicted Image Label Array: ['0.000', '0.000', '1.000', '0.000', '0.000', '0.000', '0.000', '0.000', '0.000', '0.000'] \n",
            "Predicted Image Label Shape: (1, 10) \n",
            "Predicted Image Label: 2\n"
          ]
        }
      ]
    }
  ]
}